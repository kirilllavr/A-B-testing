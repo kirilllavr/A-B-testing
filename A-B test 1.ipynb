{
 "cells": [
  {
   "cell_type": "markdown",
   "id": "51b2e576-deb0-46ee-ba1f-a8533a12879f",
   "metadata": {},
   "source": [
    "# A/B тест"
   ]
  },
  {
   "cell_type": "markdown",
   "id": "6846e60d-15cf-4562-8a05-b4c0a308160a",
   "metadata": {},
   "source": [
    "В данном проект я проведу А/В тестирование по данным: https://www.kaggle.com/datasets/zhangluyuan/ab-testing?resource=download"
   ]
  },
  {
   "cell_type": "markdown",
   "id": "f0e85347-10af-4eb6-80a7-5789fd26dbc7",
   "metadata": {},
   "source": [
    "## Загрузка данных"
   ]
  },
  {
   "cell_type": "code",
   "execution_count": 1,
   "id": "fef3512c-efbf-46dc-8a08-50923ce6c69b",
   "metadata": {},
   "outputs": [],
   "source": [
    "import pandas as pd\n",
    "import matplotlib.pyplot as plt\n",
    "import seaborn as sns\n",
    "import numpy as np\n",
    "import scipy.stats as stats\n",
    "from scipy.stats import chi2_contingency\n",
    "import statsmodels.stats.api as sms\n",
    "import warnings\n",
    "warnings.filterwarnings('ignore')"
   ]
  },
  {
   "cell_type": "code",
   "execution_count": 2,
   "id": "67e41936-475b-4f24-bdd4-0244bcf5806a",
   "metadata": {},
   "outputs": [
    {
     "data": {
      "text/html": [
       "<div>\n",
       "<style scoped>\n",
       "    .dataframe tbody tr th:only-of-type {\n",
       "        vertical-align: middle;\n",
       "    }\n",
       "\n",
       "    .dataframe tbody tr th {\n",
       "        vertical-align: top;\n",
       "    }\n",
       "\n",
       "    .dataframe thead th {\n",
       "        text-align: right;\n",
       "    }\n",
       "</style>\n",
       "<table border=\"1\" class=\"dataframe\">\n",
       "  <thead>\n",
       "    <tr style=\"text-align: right;\">\n",
       "      <th></th>\n",
       "      <th>user_id</th>\n",
       "      <th>timestamp</th>\n",
       "      <th>group</th>\n",
       "      <th>landing_page</th>\n",
       "      <th>converted</th>\n",
       "    </tr>\n",
       "  </thead>\n",
       "  <tbody>\n",
       "    <tr>\n",
       "      <th>0</th>\n",
       "      <td>851104</td>\n",
       "      <td>2017-01-21 22:11:48.556739</td>\n",
       "      <td>control</td>\n",
       "      <td>old_page</td>\n",
       "      <td>0</td>\n",
       "    </tr>\n",
       "    <tr>\n",
       "      <th>1</th>\n",
       "      <td>804228</td>\n",
       "      <td>2017-01-12 08:01:45.159739</td>\n",
       "      <td>control</td>\n",
       "      <td>old_page</td>\n",
       "      <td>0</td>\n",
       "    </tr>\n",
       "    <tr>\n",
       "      <th>2</th>\n",
       "      <td>661590</td>\n",
       "      <td>2017-01-11 16:55:06.154213</td>\n",
       "      <td>treatment</td>\n",
       "      <td>new_page</td>\n",
       "      <td>0</td>\n",
       "    </tr>\n",
       "    <tr>\n",
       "      <th>3</th>\n",
       "      <td>853541</td>\n",
       "      <td>2017-01-08 18:28:03.143765</td>\n",
       "      <td>treatment</td>\n",
       "      <td>new_page</td>\n",
       "      <td>0</td>\n",
       "    </tr>\n",
       "    <tr>\n",
       "      <th>4</th>\n",
       "      <td>864975</td>\n",
       "      <td>2017-01-21 01:52:26.210827</td>\n",
       "      <td>control</td>\n",
       "      <td>old_page</td>\n",
       "      <td>1</td>\n",
       "    </tr>\n",
       "    <tr>\n",
       "      <th>...</th>\n",
       "      <td>...</td>\n",
       "      <td>...</td>\n",
       "      <td>...</td>\n",
       "      <td>...</td>\n",
       "      <td>...</td>\n",
       "    </tr>\n",
       "    <tr>\n",
       "      <th>294473</th>\n",
       "      <td>751197</td>\n",
       "      <td>2017-01-03 22:28:38.630509</td>\n",
       "      <td>control</td>\n",
       "      <td>old_page</td>\n",
       "      <td>0</td>\n",
       "    </tr>\n",
       "    <tr>\n",
       "      <th>294474</th>\n",
       "      <td>945152</td>\n",
       "      <td>2017-01-12 00:51:57.078372</td>\n",
       "      <td>control</td>\n",
       "      <td>old_page</td>\n",
       "      <td>0</td>\n",
       "    </tr>\n",
       "    <tr>\n",
       "      <th>294475</th>\n",
       "      <td>734608</td>\n",
       "      <td>2017-01-22 11:45:03.439544</td>\n",
       "      <td>control</td>\n",
       "      <td>old_page</td>\n",
       "      <td>0</td>\n",
       "    </tr>\n",
       "    <tr>\n",
       "      <th>294476</th>\n",
       "      <td>697314</td>\n",
       "      <td>2017-01-15 01:20:28.957438</td>\n",
       "      <td>control</td>\n",
       "      <td>old_page</td>\n",
       "      <td>0</td>\n",
       "    </tr>\n",
       "    <tr>\n",
       "      <th>294477</th>\n",
       "      <td>715931</td>\n",
       "      <td>2017-01-16 12:40:24.467417</td>\n",
       "      <td>treatment</td>\n",
       "      <td>new_page</td>\n",
       "      <td>0</td>\n",
       "    </tr>\n",
       "  </tbody>\n",
       "</table>\n",
       "<p>294478 rows × 5 columns</p>\n",
       "</div>"
      ],
      "text/plain": [
       "        user_id                   timestamp      group landing_page  converted\n",
       "0        851104  2017-01-21 22:11:48.556739    control     old_page          0\n",
       "1        804228  2017-01-12 08:01:45.159739    control     old_page          0\n",
       "2        661590  2017-01-11 16:55:06.154213  treatment     new_page          0\n",
       "3        853541  2017-01-08 18:28:03.143765  treatment     new_page          0\n",
       "4        864975  2017-01-21 01:52:26.210827    control     old_page          1\n",
       "...         ...                         ...        ...          ...        ...\n",
       "294473   751197  2017-01-03 22:28:38.630509    control     old_page          0\n",
       "294474   945152  2017-01-12 00:51:57.078372    control     old_page          0\n",
       "294475   734608  2017-01-22 11:45:03.439544    control     old_page          0\n",
       "294476   697314  2017-01-15 01:20:28.957438    control     old_page          0\n",
       "294477   715931  2017-01-16 12:40:24.467417  treatment     new_page          0\n",
       "\n",
       "[294478 rows x 5 columns]"
      ]
     },
     "execution_count": 2,
     "metadata": {},
     "output_type": "execute_result"
    }
   ],
   "source": [
    "df = pd.read_csv('C:/Users/Кирилл/Desktop/Аналитик данных/ПЭТ проекты/A-B test 1/ab_data.csv')\n",
    "df"
   ]
  },
  {
   "cell_type": "code",
   "execution_count": 3,
   "id": "e0ac7657-d5bd-47fa-9a8e-1f92a4f69ae0",
   "metadata": {},
   "outputs": [],
   "source": [
    "# Функция проверки качества данных\n",
    "def initial_inspection(df):\n",
    "    \n",
    "    print(\"=== ПЕРВИЧНЫЙ ОСМОТР ДАННЫХ ===\")\n",
    "    \n",
    "    # Первые 5 строк\n",
    "    print(\"\\n1. Первые 5 строк данных:\")\n",
    "    print(df.head())\n",
    "    \n",
    "    # Информация о данных\n",
    "    print(\"\\n2. Информация о структуре данных:\")\n",
    "    print(df.info())\n",
    "    \n",
    "    # Описательная статистика\n",
    "    print(\"\\n3. Описательная статистика:\")\n",
    "    print(df.describe())\n",
    "    \n",
    "    # Проверка на пропуски\n",
    "    print(\"\\n4. Проверка на пропущенные значения:\")\n",
    "    missing_values = df.isnull().sum()\n",
    "    print(missing_values)\n",
    "    \n",
    "    return df"
   ]
  },
  {
   "cell_type": "code",
   "execution_count": 4,
   "id": "e626ba88-ac75-4fe9-94c5-190f70b831c8",
   "metadata": {},
   "outputs": [
    {
     "name": "stdout",
     "output_type": "stream",
     "text": [
      "=== ПЕРВИЧНЫЙ ОСМОТР ДАННЫХ ===\n",
      "\n",
      "1. Первые 5 строк данных:\n",
      "   user_id                   timestamp      group landing_page  converted\n",
      "0   851104  2017-01-21 22:11:48.556739    control     old_page          0\n",
      "1   804228  2017-01-12 08:01:45.159739    control     old_page          0\n",
      "2   661590  2017-01-11 16:55:06.154213  treatment     new_page          0\n",
      "3   853541  2017-01-08 18:28:03.143765  treatment     new_page          0\n",
      "4   864975  2017-01-21 01:52:26.210827    control     old_page          1\n",
      "\n",
      "2. Информация о структуре данных:\n",
      "<class 'pandas.core.frame.DataFrame'>\n",
      "RangeIndex: 294478 entries, 0 to 294477\n",
      "Data columns (total 5 columns):\n",
      " #   Column        Non-Null Count   Dtype \n",
      "---  ------        --------------   ----- \n",
      " 0   user_id       294478 non-null  int64 \n",
      " 1   timestamp     294478 non-null  object\n",
      " 2   group         294478 non-null  object\n",
      " 3   landing_page  294478 non-null  object\n",
      " 4   converted     294478 non-null  int64 \n",
      "dtypes: int64(2), object(3)\n",
      "memory usage: 11.2+ MB\n",
      "None\n",
      "\n",
      "3. Описательная статистика:\n",
      "             user_id      converted\n",
      "count  294478.000000  294478.000000\n",
      "mean   787974.124733       0.119659\n",
      "std     91210.823776       0.324563\n",
      "min    630000.000000       0.000000\n",
      "25%    709032.250000       0.000000\n",
      "50%    787933.500000       0.000000\n",
      "75%    866911.750000       0.000000\n",
      "max    945999.000000       1.000000\n",
      "\n",
      "4. Проверка на пропущенные значения:\n",
      "user_id         0\n",
      "timestamp       0\n",
      "group           0\n",
      "landing_page    0\n",
      "converted       0\n",
      "dtype: int64\n"
     ]
    },
    {
     "data": {
      "text/html": [
       "<div>\n",
       "<style scoped>\n",
       "    .dataframe tbody tr th:only-of-type {\n",
       "        vertical-align: middle;\n",
       "    }\n",
       "\n",
       "    .dataframe tbody tr th {\n",
       "        vertical-align: top;\n",
       "    }\n",
       "\n",
       "    .dataframe thead th {\n",
       "        text-align: right;\n",
       "    }\n",
       "</style>\n",
       "<table border=\"1\" class=\"dataframe\">\n",
       "  <thead>\n",
       "    <tr style=\"text-align: right;\">\n",
       "      <th></th>\n",
       "      <th>user_id</th>\n",
       "      <th>timestamp</th>\n",
       "      <th>group</th>\n",
       "      <th>landing_page</th>\n",
       "      <th>converted</th>\n",
       "    </tr>\n",
       "  </thead>\n",
       "  <tbody>\n",
       "    <tr>\n",
       "      <th>0</th>\n",
       "      <td>851104</td>\n",
       "      <td>2017-01-21 22:11:48.556739</td>\n",
       "      <td>control</td>\n",
       "      <td>old_page</td>\n",
       "      <td>0</td>\n",
       "    </tr>\n",
       "    <tr>\n",
       "      <th>1</th>\n",
       "      <td>804228</td>\n",
       "      <td>2017-01-12 08:01:45.159739</td>\n",
       "      <td>control</td>\n",
       "      <td>old_page</td>\n",
       "      <td>0</td>\n",
       "    </tr>\n",
       "    <tr>\n",
       "      <th>2</th>\n",
       "      <td>661590</td>\n",
       "      <td>2017-01-11 16:55:06.154213</td>\n",
       "      <td>treatment</td>\n",
       "      <td>new_page</td>\n",
       "      <td>0</td>\n",
       "    </tr>\n",
       "    <tr>\n",
       "      <th>3</th>\n",
       "      <td>853541</td>\n",
       "      <td>2017-01-08 18:28:03.143765</td>\n",
       "      <td>treatment</td>\n",
       "      <td>new_page</td>\n",
       "      <td>0</td>\n",
       "    </tr>\n",
       "    <tr>\n",
       "      <th>4</th>\n",
       "      <td>864975</td>\n",
       "      <td>2017-01-21 01:52:26.210827</td>\n",
       "      <td>control</td>\n",
       "      <td>old_page</td>\n",
       "      <td>1</td>\n",
       "    </tr>\n",
       "    <tr>\n",
       "      <th>...</th>\n",
       "      <td>...</td>\n",
       "      <td>...</td>\n",
       "      <td>...</td>\n",
       "      <td>...</td>\n",
       "      <td>...</td>\n",
       "    </tr>\n",
       "    <tr>\n",
       "      <th>294473</th>\n",
       "      <td>751197</td>\n",
       "      <td>2017-01-03 22:28:38.630509</td>\n",
       "      <td>control</td>\n",
       "      <td>old_page</td>\n",
       "      <td>0</td>\n",
       "    </tr>\n",
       "    <tr>\n",
       "      <th>294474</th>\n",
       "      <td>945152</td>\n",
       "      <td>2017-01-12 00:51:57.078372</td>\n",
       "      <td>control</td>\n",
       "      <td>old_page</td>\n",
       "      <td>0</td>\n",
       "    </tr>\n",
       "    <tr>\n",
       "      <th>294475</th>\n",
       "      <td>734608</td>\n",
       "      <td>2017-01-22 11:45:03.439544</td>\n",
       "      <td>control</td>\n",
       "      <td>old_page</td>\n",
       "      <td>0</td>\n",
       "    </tr>\n",
       "    <tr>\n",
       "      <th>294476</th>\n",
       "      <td>697314</td>\n",
       "      <td>2017-01-15 01:20:28.957438</td>\n",
       "      <td>control</td>\n",
       "      <td>old_page</td>\n",
       "      <td>0</td>\n",
       "    </tr>\n",
       "    <tr>\n",
       "      <th>294477</th>\n",
       "      <td>715931</td>\n",
       "      <td>2017-01-16 12:40:24.467417</td>\n",
       "      <td>treatment</td>\n",
       "      <td>new_page</td>\n",
       "      <td>0</td>\n",
       "    </tr>\n",
       "  </tbody>\n",
       "</table>\n",
       "<p>294478 rows × 5 columns</p>\n",
       "</div>"
      ],
      "text/plain": [
       "        user_id                   timestamp      group landing_page  converted\n",
       "0        851104  2017-01-21 22:11:48.556739    control     old_page          0\n",
       "1        804228  2017-01-12 08:01:45.159739    control     old_page          0\n",
       "2        661590  2017-01-11 16:55:06.154213  treatment     new_page          0\n",
       "3        853541  2017-01-08 18:28:03.143765  treatment     new_page          0\n",
       "4        864975  2017-01-21 01:52:26.210827    control     old_page          1\n",
       "...         ...                         ...        ...          ...        ...\n",
       "294473   751197  2017-01-03 22:28:38.630509    control     old_page          0\n",
       "294474   945152  2017-01-12 00:51:57.078372    control     old_page          0\n",
       "294475   734608  2017-01-22 11:45:03.439544    control     old_page          0\n",
       "294476   697314  2017-01-15 01:20:28.957438    control     old_page          0\n",
       "294477   715931  2017-01-16 12:40:24.467417  treatment     new_page          0\n",
       "\n",
       "[294478 rows x 5 columns]"
      ]
     },
     "execution_count": 4,
     "metadata": {},
     "output_type": "execute_result"
    }
   ],
   "source": [
    "initial_inspection(df)"
   ]
  },
  {
   "cell_type": "markdown",
   "id": "d07c2810-8a5d-4765-afa7-d3bc6daf7cc1",
   "metadata": {},
   "source": [
    "В датасете представлены следующие данные:\n",
    " - user_id: id пользователя;\n",
    " - timestamp: время события;\n",
    " - group: тип группы - контрольная и тестовая;\n",
    " - landing_page: тип просматриваемой страницы - новая и старая страницы;\n",
    " - converted: целевое действие.\n",
    "\n",
    "Пропущенные значения отсутствуют."
   ]
  },
  {
   "cell_type": "code",
   "execution_count": 5,
   "id": "13223430-8c02-4388-9853-fcc2370943ee",
   "metadata": {},
   "outputs": [
    {
     "name": "stdout",
     "output_type": "stream",
     "text": [
      "Уникальные группы: ['control' 'treatment']\n",
      "Уникальные страницы: ['old_page' 'new_page']\n",
      "\n",
      "Соответствие групп и страниц:\n",
      "landing_page  new_page  old_page\n",
      "group                           \n",
      "control           1928    145274\n",
      "treatment       145311      1965\n"
     ]
    }
   ],
   "source": [
    "# Должны быть только две группы: control и treatment\n",
    "print(\"Уникальные группы:\", df['group'].unique())\n",
    "\n",
    "# Должны быть только две страницы: old_page и new_page\n",
    "print(\"Уникальные страницы:\", df['landing_page'].unique())\n",
    "\n",
    "# Проверяем соответствие: control -> old_page, treatment -> new_page\n",
    "cross_tab = pd.crosstab(df['group'], df['landing_page'])\n",
    "print(\"\\nСоответствие групп и страниц:\")\n",
    "print(cross_tab)"
   ]
  },
  {
   "cell_type": "markdown",
   "id": "bcf6297d-bf68-422e-a7c3-a9215fa3b703",
   "metadata": {},
   "source": [
    "Здесь видно, что 1928 пользователей из контрольной группы видели новую страницу, а 1965 пользователей из тестовой группы видели старую страницу. Это помешает качественному А/В тесту."
   ]
  },
  {
   "cell_type": "markdown",
   "id": "c77a609c-84d8-45cd-9f86-214b6a4db009",
   "metadata": {},
   "source": [
    "## Обработка данных"
   ]
  },
  {
   "cell_type": "code",
   "execution_count": 6,
   "id": "d4c45382-eae0-46ef-8b3f-606a500ab685",
   "metadata": {},
   "outputs": [],
   "source": [
    "df_an = df.copy()\n",
    "df_min_date = df.copy()\n",
    "# меняем тип данных столбца timestamp на datetime\n",
    "df_min_date[\"timestamp\"] = pd.to_datetime(df_min_date[\"timestamp\"])\n",
    "df_an[\"timestamp\"] = pd.to_datetime(df_an[\"timestamp\"])"
   ]
  },
  {
   "cell_type": "code",
   "execution_count": 7,
   "id": "e5649608-ad72-462c-85c6-01e2fa6b4123",
   "metadata": {},
   "outputs": [
    {
     "data": {
      "text/html": [
       "<div>\n",
       "<style scoped>\n",
       "    .dataframe tbody tr th:only-of-type {\n",
       "        vertical-align: middle;\n",
       "    }\n",
       "\n",
       "    .dataframe tbody tr th {\n",
       "        vertical-align: top;\n",
       "    }\n",
       "\n",
       "    .dataframe thead th {\n",
       "        text-align: right;\n",
       "    }\n",
       "</style>\n",
       "<table border=\"1\" class=\"dataframe\">\n",
       "  <thead>\n",
       "    <tr style=\"text-align: right;\">\n",
       "      <th></th>\n",
       "      <th>user_id</th>\n",
       "      <th>timestamp</th>\n",
       "      <th>group</th>\n",
       "      <th>landing_page</th>\n",
       "      <th>converted</th>\n",
       "    </tr>\n",
       "  </thead>\n",
       "  <tbody>\n",
       "    <tr>\n",
       "      <th>0</th>\n",
       "      <td>851104</td>\n",
       "      <td>2017-01-21 22:11:48.556739</td>\n",
       "      <td>control</td>\n",
       "      <td>old_page</td>\n",
       "      <td>0</td>\n",
       "    </tr>\n",
       "    <tr>\n",
       "      <th>1</th>\n",
       "      <td>804228</td>\n",
       "      <td>2017-01-12 08:01:45.159739</td>\n",
       "      <td>control</td>\n",
       "      <td>old_page</td>\n",
       "      <td>0</td>\n",
       "    </tr>\n",
       "    <tr>\n",
       "      <th>2</th>\n",
       "      <td>661590</td>\n",
       "      <td>2017-01-11 16:55:06.154213</td>\n",
       "      <td>treatment</td>\n",
       "      <td>new_page</td>\n",
       "      <td>0</td>\n",
       "    </tr>\n",
       "    <tr>\n",
       "      <th>3</th>\n",
       "      <td>853541</td>\n",
       "      <td>2017-01-08 18:28:03.143765</td>\n",
       "      <td>treatment</td>\n",
       "      <td>new_page</td>\n",
       "      <td>0</td>\n",
       "    </tr>\n",
       "    <tr>\n",
       "      <th>4</th>\n",
       "      <td>864975</td>\n",
       "      <td>2017-01-21 01:52:26.210827</td>\n",
       "      <td>control</td>\n",
       "      <td>old_page</td>\n",
       "      <td>1</td>\n",
       "    </tr>\n",
       "    <tr>\n",
       "      <th>...</th>\n",
       "      <td>...</td>\n",
       "      <td>...</td>\n",
       "      <td>...</td>\n",
       "      <td>...</td>\n",
       "      <td>...</td>\n",
       "    </tr>\n",
       "    <tr>\n",
       "      <th>294473</th>\n",
       "      <td>751197</td>\n",
       "      <td>2017-01-03 22:28:38.630509</td>\n",
       "      <td>control</td>\n",
       "      <td>old_page</td>\n",
       "      <td>0</td>\n",
       "    </tr>\n",
       "    <tr>\n",
       "      <th>294474</th>\n",
       "      <td>945152</td>\n",
       "      <td>2017-01-12 00:51:57.078372</td>\n",
       "      <td>control</td>\n",
       "      <td>old_page</td>\n",
       "      <td>0</td>\n",
       "    </tr>\n",
       "    <tr>\n",
       "      <th>294475</th>\n",
       "      <td>734608</td>\n",
       "      <td>2017-01-22 11:45:03.439544</td>\n",
       "      <td>control</td>\n",
       "      <td>old_page</td>\n",
       "      <td>0</td>\n",
       "    </tr>\n",
       "    <tr>\n",
       "      <th>294476</th>\n",
       "      <td>697314</td>\n",
       "      <td>2017-01-15 01:20:28.957438</td>\n",
       "      <td>control</td>\n",
       "      <td>old_page</td>\n",
       "      <td>0</td>\n",
       "    </tr>\n",
       "    <tr>\n",
       "      <th>294477</th>\n",
       "      <td>715931</td>\n",
       "      <td>2017-01-16 12:40:24.467417</td>\n",
       "      <td>treatment</td>\n",
       "      <td>new_page</td>\n",
       "      <td>0</td>\n",
       "    </tr>\n",
       "  </tbody>\n",
       "</table>\n",
       "<p>294478 rows × 5 columns</p>\n",
       "</div>"
      ],
      "text/plain": [
       "        user_id                  timestamp      group landing_page  converted\n",
       "0        851104 2017-01-21 22:11:48.556739    control     old_page          0\n",
       "1        804228 2017-01-12 08:01:45.159739    control     old_page          0\n",
       "2        661590 2017-01-11 16:55:06.154213  treatment     new_page          0\n",
       "3        853541 2017-01-08 18:28:03.143765  treatment     new_page          0\n",
       "4        864975 2017-01-21 01:52:26.210827    control     old_page          1\n",
       "...         ...                        ...        ...          ...        ...\n",
       "294473   751197 2017-01-03 22:28:38.630509    control     old_page          0\n",
       "294474   945152 2017-01-12 00:51:57.078372    control     old_page          0\n",
       "294475   734608 2017-01-22 11:45:03.439544    control     old_page          0\n",
       "294476   697314 2017-01-15 01:20:28.957438    control     old_page          0\n",
       "294477   715931 2017-01-16 12:40:24.467417  treatment     new_page          0\n",
       "\n",
       "[294478 rows x 5 columns]"
      ]
     },
     "execution_count": 7,
     "metadata": {},
     "output_type": "execute_result"
    }
   ],
   "source": [
    "df_an"
   ]
  },
  {
   "cell_type": "code",
   "execution_count": 8,
   "id": "c6dd60bc-32ef-4882-94d9-7002ea79d820",
   "metadata": {},
   "outputs": [
    {
     "data": {
      "text/html": [
       "<div>\n",
       "<style scoped>\n",
       "    .dataframe tbody tr th:only-of-type {\n",
       "        vertical-align: middle;\n",
       "    }\n",
       "\n",
       "    .dataframe tbody tr th {\n",
       "        vertical-align: top;\n",
       "    }\n",
       "\n",
       "    .dataframe thead th {\n",
       "        text-align: right;\n",
       "    }\n",
       "</style>\n",
       "<table border=\"1\" class=\"dataframe\">\n",
       "  <thead>\n",
       "    <tr style=\"text-align: right;\">\n",
       "      <th></th>\n",
       "      <th>user_id</th>\n",
       "      <th>timestamp</th>\n",
       "    </tr>\n",
       "  </thead>\n",
       "  <tbody>\n",
       "    <tr>\n",
       "      <th>0</th>\n",
       "      <td>630000</td>\n",
       "      <td>2017-01-19 06:26:06.548941</td>\n",
       "    </tr>\n",
       "    <tr>\n",
       "      <th>1</th>\n",
       "      <td>630001</td>\n",
       "      <td>2017-01-16 03:16:42.560309</td>\n",
       "    </tr>\n",
       "    <tr>\n",
       "      <th>2</th>\n",
       "      <td>630002</td>\n",
       "      <td>2017-01-19 19:20:56.438330</td>\n",
       "    </tr>\n",
       "    <tr>\n",
       "      <th>3</th>\n",
       "      <td>630003</td>\n",
       "      <td>2017-01-12 10:09:31.510471</td>\n",
       "    </tr>\n",
       "    <tr>\n",
       "      <th>4</th>\n",
       "      <td>630004</td>\n",
       "      <td>2017-01-18 20:23:58.824994</td>\n",
       "    </tr>\n",
       "    <tr>\n",
       "      <th>...</th>\n",
       "      <td>...</td>\n",
       "      <td>...</td>\n",
       "    </tr>\n",
       "    <tr>\n",
       "      <th>290579</th>\n",
       "      <td>945994</td>\n",
       "      <td>2017-01-03 14:41:21.565258</td>\n",
       "    </tr>\n",
       "    <tr>\n",
       "      <th>290580</th>\n",
       "      <td>945996</td>\n",
       "      <td>2017-01-09 18:58:19.952277</td>\n",
       "    </tr>\n",
       "    <tr>\n",
       "      <th>290581</th>\n",
       "      <td>945997</td>\n",
       "      <td>2017-01-04 06:56:24.658147</td>\n",
       "    </tr>\n",
       "    <tr>\n",
       "      <th>290582</th>\n",
       "      <td>945998</td>\n",
       "      <td>2017-01-16 07:08:02.207969</td>\n",
       "    </tr>\n",
       "    <tr>\n",
       "      <th>290583</th>\n",
       "      <td>945999</td>\n",
       "      <td>2017-01-16 04:56:21.132067</td>\n",
       "    </tr>\n",
       "  </tbody>\n",
       "</table>\n",
       "<p>290584 rows × 2 columns</p>\n",
       "</div>"
      ],
      "text/plain": [
       "        user_id                  timestamp\n",
       "0        630000 2017-01-19 06:26:06.548941\n",
       "1        630001 2017-01-16 03:16:42.560309\n",
       "2        630002 2017-01-19 19:20:56.438330\n",
       "3        630003 2017-01-12 10:09:31.510471\n",
       "4        630004 2017-01-18 20:23:58.824994\n",
       "...         ...                        ...\n",
       "290579   945994 2017-01-03 14:41:21.565258\n",
       "290580   945996 2017-01-09 18:58:19.952277\n",
       "290581   945997 2017-01-04 06:56:24.658147\n",
       "290582   945998 2017-01-16 07:08:02.207969\n",
       "290583   945999 2017-01-16 04:56:21.132067\n",
       "\n",
       "[290584 rows x 2 columns]"
      ]
     },
     "execution_count": 8,
     "metadata": {},
     "output_type": "execute_result"
    }
   ],
   "source": [
    "# фильтруем только первую запись timestamp для каждого user_id, чтобы убрать повторные сессии\n",
    "df_min_date = df_min_date.groupby(\"user_id\").min()[\"timestamp\"].reset_index()\n",
    "df_min_date"
   ]
  },
  {
   "cell_type": "code",
   "execution_count": 9,
   "id": "ab682d15-090f-4776-b9ab-e82397033a21",
   "metadata": {},
   "outputs": [
    {
     "data": {
      "text/html": [
       "<div>\n",
       "<style scoped>\n",
       "    .dataframe tbody tr th:only-of-type {\n",
       "        vertical-align: middle;\n",
       "    }\n",
       "\n",
       "    .dataframe tbody tr th {\n",
       "        vertical-align: top;\n",
       "    }\n",
       "\n",
       "    .dataframe thead th {\n",
       "        text-align: right;\n",
       "    }\n",
       "</style>\n",
       "<table border=\"1\" class=\"dataframe\">\n",
       "  <thead>\n",
       "    <tr style=\"text-align: right;\">\n",
       "      <th></th>\n",
       "      <th>user_id</th>\n",
       "      <th>timestamp</th>\n",
       "      <th>group</th>\n",
       "      <th>landing_page</th>\n",
       "      <th>converted</th>\n",
       "    </tr>\n",
       "  </thead>\n",
       "  <tbody>\n",
       "    <tr>\n",
       "      <th>0</th>\n",
       "      <td>851104</td>\n",
       "      <td>2017-01-21 22:11:48.556739</td>\n",
       "      <td>control</td>\n",
       "      <td>old_page</td>\n",
       "      <td>0</td>\n",
       "    </tr>\n",
       "    <tr>\n",
       "      <th>1</th>\n",
       "      <td>804228</td>\n",
       "      <td>2017-01-12 08:01:45.159739</td>\n",
       "      <td>control</td>\n",
       "      <td>old_page</td>\n",
       "      <td>0</td>\n",
       "    </tr>\n",
       "    <tr>\n",
       "      <th>2</th>\n",
       "      <td>661590</td>\n",
       "      <td>2017-01-11 16:55:06.154213</td>\n",
       "      <td>treatment</td>\n",
       "      <td>new_page</td>\n",
       "      <td>0</td>\n",
       "    </tr>\n",
       "    <tr>\n",
       "      <th>3</th>\n",
       "      <td>853541</td>\n",
       "      <td>2017-01-08 18:28:03.143765</td>\n",
       "      <td>treatment</td>\n",
       "      <td>new_page</td>\n",
       "      <td>0</td>\n",
       "    </tr>\n",
       "    <tr>\n",
       "      <th>4</th>\n",
       "      <td>864975</td>\n",
       "      <td>2017-01-21 01:52:26.210827</td>\n",
       "      <td>control</td>\n",
       "      <td>old_page</td>\n",
       "      <td>1</td>\n",
       "    </tr>\n",
       "    <tr>\n",
       "      <th>...</th>\n",
       "      <td>...</td>\n",
       "      <td>...</td>\n",
       "      <td>...</td>\n",
       "      <td>...</td>\n",
       "      <td>...</td>\n",
       "    </tr>\n",
       "    <tr>\n",
       "      <th>290579</th>\n",
       "      <td>751197</td>\n",
       "      <td>2017-01-03 22:28:38.630509</td>\n",
       "      <td>control</td>\n",
       "      <td>old_page</td>\n",
       "      <td>0</td>\n",
       "    </tr>\n",
       "    <tr>\n",
       "      <th>290580</th>\n",
       "      <td>945152</td>\n",
       "      <td>2017-01-12 00:51:57.078372</td>\n",
       "      <td>control</td>\n",
       "      <td>old_page</td>\n",
       "      <td>0</td>\n",
       "    </tr>\n",
       "    <tr>\n",
       "      <th>290581</th>\n",
       "      <td>734608</td>\n",
       "      <td>2017-01-22 11:45:03.439544</td>\n",
       "      <td>control</td>\n",
       "      <td>old_page</td>\n",
       "      <td>0</td>\n",
       "    </tr>\n",
       "    <tr>\n",
       "      <th>290582</th>\n",
       "      <td>697314</td>\n",
       "      <td>2017-01-15 01:20:28.957438</td>\n",
       "      <td>control</td>\n",
       "      <td>old_page</td>\n",
       "      <td>0</td>\n",
       "    </tr>\n",
       "    <tr>\n",
       "      <th>290583</th>\n",
       "      <td>715931</td>\n",
       "      <td>2017-01-16 12:40:24.467417</td>\n",
       "      <td>treatment</td>\n",
       "      <td>new_page</td>\n",
       "      <td>0</td>\n",
       "    </tr>\n",
       "  </tbody>\n",
       "</table>\n",
       "<p>290584 rows × 5 columns</p>\n",
       "</div>"
      ],
      "text/plain": [
       "        user_id                  timestamp      group landing_page  converted\n",
       "0        851104 2017-01-21 22:11:48.556739    control     old_page          0\n",
       "1        804228 2017-01-12 08:01:45.159739    control     old_page          0\n",
       "2        661590 2017-01-11 16:55:06.154213  treatment     new_page          0\n",
       "3        853541 2017-01-08 18:28:03.143765  treatment     new_page          0\n",
       "4        864975 2017-01-21 01:52:26.210827    control     old_page          1\n",
       "...         ...                        ...        ...          ...        ...\n",
       "290579   751197 2017-01-03 22:28:38.630509    control     old_page          0\n",
       "290580   945152 2017-01-12 00:51:57.078372    control     old_page          0\n",
       "290581   734608 2017-01-22 11:45:03.439544    control     old_page          0\n",
       "290582   697314 2017-01-15 01:20:28.957438    control     old_page          0\n",
       "290583   715931 2017-01-16 12:40:24.467417  treatment     new_page          0\n",
       "\n",
       "[290584 rows x 5 columns]"
      ]
     },
     "execution_count": 9,
     "metadata": {},
     "output_type": "execute_result"
    }
   ],
   "source": [
    "# соединяем таблицы df_an и df_min_date\n",
    "df_an = df_an.merge(df_min_date, on = [\"user_id\", \"timestamp\"], how = \"inner\")\n",
    "# получаем таблицу без повторных сессий пользователей\n",
    "df_an"
   ]
  },
  {
   "cell_type": "code",
   "execution_count": 10,
   "id": "1f53247d-4b29-4447-b580-2ee631691061",
   "metadata": {},
   "outputs": [
    {
     "name": "stdout",
     "output_type": "stream",
     "text": [
      "\n",
      "Соответствие групп и страниц:\n",
      "landing_page  new_page  old_page\n",
      "group                           \n",
      "control            975    144319\n",
      "treatment       144316       974\n"
     ]
    }
   ],
   "source": [
    "# Проверяем соответствие: control -> old_page, treatment -> new_page\n",
    "cross_tab = pd.crosstab(df_an['group'], df_an['landing_page'])\n",
    "print(\"\\nСоответствие групп и страниц:\")\n",
    "print(cross_tab)"
   ]
  },
  {
   "cell_type": "markdown",
   "id": "cd76cccd-777e-4f87-aa2c-09976dfe3630",
   "metadata": {},
   "source": [
    "У нас по-прежнему остались пользователи в каждой из групп,. которые видели обе страницы. Таких пользователей необходимо удалить, так как они будут искажать A/B тест."
   ]
  },
  {
   "cell_type": "code",
   "execution_count": 11,
   "id": "974358e4-6d7e-428e-93f0-5280946df403",
   "metadata": {},
   "outputs": [
    {
     "data": {
      "text/plain": [
       "array([686623, 820951, 637639, ..., 813406, 928506, 689637], dtype=int64)"
      ]
     },
     "execution_count": 11,
     "metadata": {},
     "output_type": "execute_result"
    }
   ],
   "source": [
    "# Находим user_id с некорректными соответствиями групп и страниц\n",
    "incorrect_users = df_an[\n",
    "    ((df_an['group'] == 'control') & (df_an['landing_page'] != 'old_page')) |\n",
    "    ((df_an['group'] == 'treatment') & (df_an['landing_page'] != 'new_page'))\n",
    "]['user_id'].unique()\n",
    "incorrect_users"
   ]
  },
  {
   "cell_type": "code",
   "execution_count": 12,
   "id": "f952cc91-6189-4107-ada5-c71f10975e28",
   "metadata": {},
   "outputs": [],
   "source": [
    "# Удаляем все записи этих пользователей\n",
    "df_cleaned = df_an[~df_an['user_id'].isin(incorrect_users)]"
   ]
  },
  {
   "cell_type": "code",
   "execution_count": 13,
   "id": "44ec1d15-17ea-43d4-86ba-90c69bab9aed",
   "metadata": {},
   "outputs": [
    {
     "data": {
      "text/html": [
       "<div>\n",
       "<style scoped>\n",
       "    .dataframe tbody tr th:only-of-type {\n",
       "        vertical-align: middle;\n",
       "    }\n",
       "\n",
       "    .dataframe tbody tr th {\n",
       "        vertical-align: top;\n",
       "    }\n",
       "\n",
       "    .dataframe thead th {\n",
       "        text-align: right;\n",
       "    }\n",
       "</style>\n",
       "<table border=\"1\" class=\"dataframe\">\n",
       "  <thead>\n",
       "    <tr style=\"text-align: right;\">\n",
       "      <th></th>\n",
       "      <th>user_id</th>\n",
       "      <th>timestamp</th>\n",
       "      <th>group</th>\n",
       "      <th>landing_page</th>\n",
       "      <th>converted</th>\n",
       "    </tr>\n",
       "  </thead>\n",
       "  <tbody>\n",
       "    <tr>\n",
       "      <th>0</th>\n",
       "      <td>851104</td>\n",
       "      <td>2017-01-21 22:11:48.556739</td>\n",
       "      <td>control</td>\n",
       "      <td>old_page</td>\n",
       "      <td>0</td>\n",
       "    </tr>\n",
       "    <tr>\n",
       "      <th>1</th>\n",
       "      <td>804228</td>\n",
       "      <td>2017-01-12 08:01:45.159739</td>\n",
       "      <td>control</td>\n",
       "      <td>old_page</td>\n",
       "      <td>0</td>\n",
       "    </tr>\n",
       "    <tr>\n",
       "      <th>2</th>\n",
       "      <td>661590</td>\n",
       "      <td>2017-01-11 16:55:06.154213</td>\n",
       "      <td>treatment</td>\n",
       "      <td>new_page</td>\n",
       "      <td>0</td>\n",
       "    </tr>\n",
       "    <tr>\n",
       "      <th>3</th>\n",
       "      <td>853541</td>\n",
       "      <td>2017-01-08 18:28:03.143765</td>\n",
       "      <td>treatment</td>\n",
       "      <td>new_page</td>\n",
       "      <td>0</td>\n",
       "    </tr>\n",
       "    <tr>\n",
       "      <th>4</th>\n",
       "      <td>864975</td>\n",
       "      <td>2017-01-21 01:52:26.210827</td>\n",
       "      <td>control</td>\n",
       "      <td>old_page</td>\n",
       "      <td>1</td>\n",
       "    </tr>\n",
       "    <tr>\n",
       "      <th>...</th>\n",
       "      <td>...</td>\n",
       "      <td>...</td>\n",
       "      <td>...</td>\n",
       "      <td>...</td>\n",
       "      <td>...</td>\n",
       "    </tr>\n",
       "    <tr>\n",
       "      <th>290579</th>\n",
       "      <td>751197</td>\n",
       "      <td>2017-01-03 22:28:38.630509</td>\n",
       "      <td>control</td>\n",
       "      <td>old_page</td>\n",
       "      <td>0</td>\n",
       "    </tr>\n",
       "    <tr>\n",
       "      <th>290580</th>\n",
       "      <td>945152</td>\n",
       "      <td>2017-01-12 00:51:57.078372</td>\n",
       "      <td>control</td>\n",
       "      <td>old_page</td>\n",
       "      <td>0</td>\n",
       "    </tr>\n",
       "    <tr>\n",
       "      <th>290581</th>\n",
       "      <td>734608</td>\n",
       "      <td>2017-01-22 11:45:03.439544</td>\n",
       "      <td>control</td>\n",
       "      <td>old_page</td>\n",
       "      <td>0</td>\n",
       "    </tr>\n",
       "    <tr>\n",
       "      <th>290582</th>\n",
       "      <td>697314</td>\n",
       "      <td>2017-01-15 01:20:28.957438</td>\n",
       "      <td>control</td>\n",
       "      <td>old_page</td>\n",
       "      <td>0</td>\n",
       "    </tr>\n",
       "    <tr>\n",
       "      <th>290583</th>\n",
       "      <td>715931</td>\n",
       "      <td>2017-01-16 12:40:24.467417</td>\n",
       "      <td>treatment</td>\n",
       "      <td>new_page</td>\n",
       "      <td>0</td>\n",
       "    </tr>\n",
       "  </tbody>\n",
       "</table>\n",
       "<p>288635 rows × 5 columns</p>\n",
       "</div>"
      ],
      "text/plain": [
       "        user_id                  timestamp      group landing_page  converted\n",
       "0        851104 2017-01-21 22:11:48.556739    control     old_page          0\n",
       "1        804228 2017-01-12 08:01:45.159739    control     old_page          0\n",
       "2        661590 2017-01-11 16:55:06.154213  treatment     new_page          0\n",
       "3        853541 2017-01-08 18:28:03.143765  treatment     new_page          0\n",
       "4        864975 2017-01-21 01:52:26.210827    control     old_page          1\n",
       "...         ...                        ...        ...          ...        ...\n",
       "290579   751197 2017-01-03 22:28:38.630509    control     old_page          0\n",
       "290580   945152 2017-01-12 00:51:57.078372    control     old_page          0\n",
       "290581   734608 2017-01-22 11:45:03.439544    control     old_page          0\n",
       "290582   697314 2017-01-15 01:20:28.957438    control     old_page          0\n",
       "290583   715931 2017-01-16 12:40:24.467417  treatment     new_page          0\n",
       "\n",
       "[288635 rows x 5 columns]"
      ]
     },
     "execution_count": 13,
     "metadata": {},
     "output_type": "execute_result"
    }
   ],
   "source": [
    "df_cleaned"
   ]
  },
  {
   "cell_type": "code",
   "execution_count": 14,
   "id": "b12ecd76-8975-43c3-b774-8c238daf9bd9",
   "metadata": {},
   "outputs": [
    {
     "name": "stdout",
     "output_type": "stream",
     "text": [
      "\n",
      "Соответствие групп и страниц:\n",
      "landing_page  new_page  old_page\n",
      "group                           \n",
      "control              0    144319\n",
      "treatment       144316         0\n"
     ]
    }
   ],
   "source": [
    "# Проверяем соответствие: control -> old_page, treatment -> new_page\n",
    "cross_tab1 = pd.crosstab(df_cleaned['group'], df_cleaned['landing_page'])\n",
    "print(\"\\nСоответствие групп и страниц:\")\n",
    "print(cross_tab1)"
   ]
  },
  {
   "cell_type": "code",
   "execution_count": 15,
   "id": "95de7433-c193-4af4-8164-795de3a35f23",
   "metadata": {},
   "outputs": [
    {
     "name": "stdout",
     "output_type": "stream",
     "text": [
      "Количество повторяющихся user_id: 0\n"
     ]
    }
   ],
   "source": [
    "# Проверим, есть ли пользователи, которые встречаются больше одного раза\n",
    "duplicate_users = df_cleaned['user_id'].duplicated().sum()\n",
    "print(f\"Количество повторяющихся user_id: {duplicate_users}\")"
   ]
  },
  {
   "cell_type": "markdown",
   "id": "650d4e59-d30d-4d3c-96a0-758505f6be12",
   "metadata": {},
   "source": [
    "## Проверка временного периода эксперимента"
   ]
  },
  {
   "cell_type": "code",
   "execution_count": 16,
   "id": "f9914755-5a37-4967-b72d-cb8f84a5a59f",
   "metadata": {},
   "outputs": [
    {
     "name": "stdout",
     "output_type": "stream",
     "text": [
      "Начало эксперимента: 2017-01-02 13:42:05.378582\n",
      "Конец эксперимента: 2017-01-24 13:41:54.460509\n",
      "Длительность эксперимента: 21 days 23:59:49.081927\n"
     ]
    },
    {
     "data": {
      "image/png": "[encoded data removed]",
      "text/plain": [
       "<Figure size 1200x600 with 1 Axes>"
      ]
     },
     "metadata": {},
     "output_type": "display_data"
    }
   ],
   "source": [
    "# Проверим временной период эксперимента\n",
    "print(\"Начало эксперимента:\", df_cleaned['timestamp'].min())\n",
    "print(\"Конец эксперимента:\", df_cleaned['timestamp'].max())\n",
    "print(\"Длительность эксперимента:\", df_cleaned['timestamp'].max() - df_cleaned['timestamp'].min())\n",
    "\n",
    "# Построим график количества событий по дням\n",
    "df_cleaned['date'] = df_cleaned['timestamp'].dt.date\n",
    "daily_counts = df_cleaned.groupby('date')['user_id'].count()\n",
    "plt.figure(figsize=(12, 6))\n",
    "daily_counts.plot(kind='line', title='Количество событий по дням')\n",
    "plt.xlabel('Дата')\n",
    "plt.ylabel('Количество событий')\n",
    "plt.grid()\n",
    "plt.show()"
   ]
  },
  {
   "cell_type": "markdown",
   "id": "6d96275a-7f7d-4adf-9dc3-a6713b8bb2bc",
   "metadata": {},
   "source": [
    "Эксперимент длился ровное количество дней.\n",
    "\n",
    "Трафик распределен равномерно."
   ]
  },
  {
   "cell_type": "code",
   "execution_count": 17,
   "id": "27e18360-702a-48e6-9b93-cb3db198d3f0",
   "metadata": {},
   "outputs": [
    {
     "name": "stdout",
     "output_type": "stream",
     "text": [
      "Распределение по группам:\n",
      "group\n",
      "control      144319\n",
      "treatment    144316\n",
      "Name: count, dtype: int64\n",
      "\n",
      "Соотношение: 0.500 : 0.500\n",
      "p-value для проверки равномерности распределения: 1.0000\n"
     ]
    }
   ],
   "source": [
    "# Посчитаем количество пользователей в каждой группе\n",
    "group_counts = df_cleaned['group'].value_counts()\n",
    "print(\"Распределение по группам:\")\n",
    "print(group_counts)\n",
    "\n",
    "# В идеале соотношение должно быть близко к 50/50\n",
    "print(f\"\\nСоотношение: {group_counts['control']/group_counts.sum():.3f} : {group_counts['treatment']/group_counts.sum():.3f}\")\n",
    "\n",
    "# Проверим статистическую значимость различия в размерах групп (Xи-квадрат)\n",
    "chi2, p_value, _, _ = chi2_contingency([group_counts.values])\n",
    "print(f\"p-value для проверки равномерности распределения: {p_value:.4f}\")"
   ]
  },
  {
   "cell_type": "markdown",
   "id": "f801f246-01a3-4a1b-b8bb-4f3bd7c3c6dc",
   "metadata": {},
   "source": [
    "Соотношение групп 50/50.\n",
    "\n",
    "p-value > 0.05: Различия в размерах групп статистически не значимы."
   ]
  },
  {
   "cell_type": "code",
   "execution_count": 18,
   "id": "ff7535c5-d0fe-4868-be61-fd5aed33c054",
   "metadata": {},
   "outputs": [
    {
     "name": "stdout",
     "output_type": "stream",
     "text": [
      "Уникальные значения converted: [0 1]\n",
      "\n",
      "Конверсия по группам (предварительно):\n",
      "group\n",
      "control      0.120393\n",
      "treatment    0.118698\n",
      "Name: converted, dtype: float64\n"
     ]
    }
   ],
   "source": [
    "# Проверим значения converted\n",
    "print(\"Уникальные значения converted:\", df_cleaned['converted'].unique())\n",
    "\n",
    "# Посчитаем конверсию в группах на этом этапе (только для справки, пока без теста)\n",
    "conversion_rates = df_cleaned.groupby('group')['converted'].mean()\n",
    "print(\"\\nКонверсия по группам (предварительно):\")\n",
    "print(conversion_rates)"
   ]
  },
  {
   "cell_type": "markdown",
   "id": "b1ce94c5-bbcb-4197-9654-e63aca3d66ec",
   "metadata": {},
   "source": [
    "Видим, что нет аномально высокого процента конверсий по группам."
   ]
  },
  {
   "cell_type": "markdown",
   "id": "c8b1793d-c36a-4740-9777-1b2d778515f0",
   "metadata": {},
   "source": [
    "# А/В тест"
   ]
  },
  {
   "cell_type": "markdown",
   "id": "638505c0-f13a-40b3-9e69-3906247b84cf",
   "metadata": {},
   "source": [
    "Гипотезы:\n",
    " - H0: Конверсия в контрольной группе равна конверсии в экспериментальной группе.\n",
    " - H1: Конверсии в группах различаются."
   ]
  },
  {
   "cell_type": "code",
   "execution_count": 19,
   "id": "6e0a4ae3-dca2-4f3d-a1f5-9a5a1f4ec33b",
   "metadata": {},
   "outputs": [
    {
     "name": "stdout",
     "output_type": "stream",
     "text": [
      "Основные метрики по группам:\n",
      "            count      mean       std  ci_lower  ci_upper\n",
      "group                                                    \n",
      "control    144319  0.120393  0.325422  0.118714  0.122072\n",
      "treatment  144316  0.118698  0.323434  0.117029  0.120367\n"
     ]
    }
   ],
   "source": [
    "# Установка стиля графиков\n",
    "sns.set_style(\"whitegrid\")\n",
    "plt.rcParams['figure.figsize'] = (12, 6)\n",
    "\n",
    "# Рассчитаем основные метрики по группам\n",
    "grouped = df_cleaned.groupby('group')['converted'].agg(['count', 'mean', 'std'])\n",
    "\n",
    "# Добавим доверительные интервалы для конверсии\n",
    "def get_ci_proportion(mean, count, alpha=0.05):\n",
    "    \"\"\"Вычисляет доверительный интервал для пропорции\"\"\"\n",
    "    se = np.sqrt(mean * (1 - mean) / count) # стандартная ошибка пропорции\n",
    "    z = stats.norm.ppf(1 - alpha/2) # Z-значение для заданного уровня значимости (по умолчанию 95% ДИ)\n",
    "    return mean - z * se, mean + z * se # возвращает нижнюю и верхнюю границы доверительного интервала\n",
    "\n",
    "# Применяем функцию для расчета доверительных интервалов\n",
    "grouped['ci_lower'] = grouped.apply(lambda x: get_ci_proportion(x['mean'], x['count'])[0], axis=1)\n",
    "grouped['ci_upper'] = grouped.apply(lambda x: get_ci_proportion(x['mean'], x['count'])[1], axis=1)\n",
    "\n",
    "print(\"Основные метрики по группам:\")\n",
    "print(grouped)"
   ]
  },
  {
   "cell_type": "code",
   "execution_count": 20,
   "id": "bbff93ff-b830-418a-bc9e-aee388b415de",
   "metadata": {},
   "outputs": [
    {
     "data": {
      "image/png": "[encoded data removed]",
      "text/plain": [
       "<Figure size 1000x600 with 1 Axes>"
      ]
     },
     "metadata": {},
     "output_type": "display_data"
    }
   ],
   "source": [
    "# Визуализация результатов\n",
    "plt.figure(figsize=(10, 6))\n",
    "groups = grouped.index\n",
    "means = grouped['mean']\n",
    "cis_lower = grouped['ci_lower']\n",
    "cis_upper = grouped['ci_upper']\n",
    "\n",
    "plt.bar(groups, means, yerr=[means - cis_lower, cis_upper - means], \n",
    "        capsize=5, alpha=0.7, color=['skyblue', 'lightcoral'])\n",
    "plt.ylabel('Конверсия')\n",
    "plt.title('Сравнение конверсии между группами с доверительными интервалами (95%)')\n",
    "plt.show()"
   ]
  },
  {
   "cell_type": "markdown",
   "id": "2abc8778-9ed7-4588-965a-ffbed2d78161",
   "metadata": {},
   "source": [
    "График показывает, что тестовая группа (treatment) не показала значительного увеличения конверсии."
   ]
  },
  {
   "cell_type": "code",
   "execution_count": 21,
   "id": "3d4e4b68-898e-4c40-a880-09deb54f2aaf",
   "metadata": {},
   "outputs": [
    {
     "name": "stdout",
     "output_type": "stream",
     "text": [
      "Контрольная группа: 144319 пользователей, 17375 конверсий\n",
      "Экспериментальная группа: 144316 пользователей, 17130 конверсий\n"
     ]
    }
   ],
   "source": [
    "# Проведем статистический тест\n",
    "# Разделяем данные на две группы\n",
    "control_conversions = df_cleaned[df_cleaned['group'] == 'control']['converted']\n",
    "treatment_conversions = df_cleaned[df_cleaned['group'] == 'treatment']['converted']\n",
    "\n",
    "# Вычисляем размеры выборок и количество конверсий\n",
    "n_control = len(control_conversions)\n",
    "n_treatment = len(treatment_conversions)\n",
    "conv_control = control_conversions.sum()\n",
    "conv_treatment = treatment_conversions.sum()\n",
    "\n",
    "print(f\"Контрольная группа: {n_control} пользователей, {conv_control} конверсий\")\n",
    "print(f\"Экспериментальная группа: {n_treatment} пользователей, {conv_treatment} конверсий\")"
   ]
  },
  {
   "cell_type": "code",
   "execution_count": 22,
   "id": "1f8d823c-69e4-415f-98cb-b9dcff2a3758",
   "metadata": {},
   "outputs": [
    {
     "name": "stdout",
     "output_type": "stream",
     "text": [
      "Z-статистика: 1.4036\n",
      "P-value: 0.1604\n",
      "Разница в конверсии: -0.0017\n",
      "95% доверительный интервал разницы: [-0.0041, 0.0007]\n"
     ]
    }
   ],
   "source": [
    "# Проводим Z-тест для пропорций\n",
    "z_score, p_value = sms.proportions_ztest(\n",
    "    [conv_control, conv_treatment], \n",
    "    [n_control, n_treatment]\n",
    ")\n",
    "\n",
    "print(f\"Z-статистика: {z_score:.4f}\") # величина Z-статистики, показывающая, насколько отличаются пропорции\n",
    "print(f\"P-value: {p_value:.4f}\") # вероятность получить такие же результаты при условии, что нулевая гипотеза верна\n",
    "\n",
    "# Рассчитаем доверительный интервал для разницы пропорций\n",
    "effect_size = conv_treatment/n_treatment - conv_control/n_control\n",
    "se = np.sqrt(conv_control/n_control * (1 - conv_control/n_control) / n_control + \n",
    "             conv_treatment/n_treatment * (1 - conv_treatment/n_treatment) / n_treatment)\n",
    "ci_lower = effect_size - 1.96 * se\n",
    "ci_upper = effect_size + 1.96 * se\n",
    "\n",
    "print(f\"Разница в конверсии: {effect_size:.4f}\")\n",
    "print(f\"95% доверительный интервал разницы: [{ci_lower:.4f}, {ci_upper:.4f}]\")"
   ]
  },
  {
   "cell_type": "markdown",
   "id": "5c4f8f02-ff4d-4bd1-ad6c-d94ec6377ad3",
   "metadata": {},
   "source": [
    "Z-статистика: 1.4036\n",
    "\n",
    "Значение 1.4036 означает, что разница между группами составляет примерно 1.4 стандартных ошибки. Для уровня значимости α = 0.05 (95% доверительный уровень) критические значения Z составляют ±1.96. Так как Z-статистика (1.4036) меньше критического значения 1.96, это говорит о том что мы не можем отвергнуть нулевую гипотезу о равенстве конверсий в группах\n",
    "\n",
    "P-value: 0.1604. \n",
    "\n",
    "Это значение больше общепринятого уровня значимости 0.05.\n",
    "Вывод: Нет статистически значимых доказательств того, что разница между группами реальна.\n",
    "Вероятность получить такие результаты случайно (при отсутствии реальной разницы) составляет 16,04%.\n",
    "\n",
    "Разница в конверсии: -0.0017\n",
    "\n",
    "Экспериментальная группа (treatment) показала конверсию на 0.17% хуже, чем контрольная группа.\n",
    "Это очень небольшая разница, особенно учитывая, что она статистически незначима\n",
    "\n",
    "Доверительный интервал: [-0.0041, 0.0007]\n",
    "\n",
    "С 95% уверенностью можно сказать, что истинная разница в конверсии находится между -0,41% и +0,07%.\n",
    "Интервал включает ноль, что подтверждает отсутствие статистической значимости.\n",
    "Интервал асимметричен относительно нуля, что указывает на возможное небольшое отрицательное влияние новой версии"
   ]
  },
  {
   "cell_type": "code",
   "execution_count": 23,
   "id": "3a6612aa-e173-42e5-b38d-129fe153c8f9",
   "metadata": {},
   "outputs": [
    {
     "name": "stdout",
     "output_type": "stream",
     "text": [
      "Не удалось отвергнуть нулевую гипотезу: статистически значимой разницы между группами не обнаружено.\n"
     ]
    },
    {
     "data": {
      "image/png": "[encoded data removed]",
      "text/plain": [
       "<Figure size 1000x600 with 1 Axes>"
      ]
     },
     "metadata": {},
     "output_type": "display_data"
    },
    {
     "name": "stdout",
     "output_type": "stream",
     "text": [
      "Мощность теста: 0.2894\n"
     ]
    }
   ],
   "source": [
    "# Интерпретация результатов\n",
    "alpha = 0.05\n",
    "if p_value < alpha:\n",
    "    print(\"Отвергаем нулевую гипотезу: существует статистически значимая разница между группами.\")\n",
    "    if effect_size > 0:\n",
    "        print(f\"Новая версия увеличила конверсию на {effect_size*100:.2f}%.\")\n",
    "    else:\n",
    "        print(f\"Новая версия уменьшила конверсию на {abs(effect_size)*100:.2f}%.\")\n",
    "else:\n",
    "    print(\"Не удалось отвергнуть нулевую гипотезу: статистически значимой разницы между группами не обнаружено.\")\n",
    "\n",
    "# Дополнительная визуализация: распределение разницы\n",
    "plt.figure(figsize=(10, 6))\n",
    "sns.kdeplot(np.random.normal(0, se, 10000), label='Нулевая гипотеза')\n",
    "plt.axvline(x=effect_size, color='red', linestyle='--', label='Наблюдаемый эффект')\n",
    "plt.axvline(x=ci_lower, color='gray', linestyle=':', label='95% ДИ')\n",
    "plt.axvline(x=ci_upper, color='gray', linestyle=':')\n",
    "plt.xlabel('Разница в конверсии')\n",
    "plt.ylabel('Плотность')\n",
    "plt.title('Распределение разницы пропорций при нулевой гипотезе')\n",
    "plt.legend()\n",
    "plt.show()\n",
    "\n",
    "# Расчет мощности теста\n",
    "effect = sms.proportion_effectsize(conv_control/n_control, conv_treatment/n_treatment)\n",
    "power = sms.TTestIndPower().power(\n",
    "    effect_size=effect,\n",
    "    nobs1=n_control,\n",
    "    alpha=0.05,\n",
    "    ratio=n_treatment/n_control\n",
    ")\n",
    "print(f\"Мощность теста: {power:.4f}\")"
   ]
  },
  {
   "cell_type": "markdown",
   "id": "f5a3089a-d923-45fe-93db-d779fd4cd917",
   "metadata": {},
   "source": [
    "Мощность теста говорит о том, что если новая версия страницы действительно улучшает конверсию, то наш тест имеет только 28.94% шанс это обнаружить."
   ]
  },
  {
   "cell_type": "markdown",
   "id": "534095a4-bdf0-4a30-a3e0-f04a5001038b",
   "metadata": {},
   "source": [
    "Статистический вывод: Не отвергаем нулевую гипотезу. Нет доказательств того, что новая версия страницы повлияла на конверсию. И соответственно мы имеем 71.06% вероятность совершить ошибку 2-го рода (пропустить существующий эффект).\n",
    "\n",
    "Причины низкой мощности: недостаточный размер выборки или слишком маленький эффект."
   ]
  },
  {
   "cell_type": "markdown",
   "id": "192e9673-f4cf-428f-be38-dd162bc30754",
   "metadata": {},
   "source": [
    "В итоге отсутствие статистической значимости не означает отсутствия эффекта. Возможно, эффект есть, но наш тест не имеет достаточной мощности для его обнаружения."
   ]
  },
  {
   "cell_type": "markdown",
   "id": "defbafea-498d-4549-8fba-127841740e9e",
   "metadata": {},
   "source": [
    "Вывод: нельзя сделать вывод о том, что \"новая версия не работает\". Можно лишь сделать вывод о том, что не удалось обнаружить статистически значимого эффекта при текущей мощности теста."
   ]
  },
  {
   "cell_type": "code",
   "execution_count": null,
   "id": "12a5cba2-a653-4a89-b4bd-d90213751812",
   "metadata": {},
   "outputs": [],
   "source": []
  },
  {
   "cell_type": "code",
   "execution_count": null,
   "id": "9a6d5b82-da27-41f1-8939-77efa0dba582",
   "metadata": {},
   "outputs": [],
   "source": []
  }
 ],
 "metadata": {
  "kernelspec": {
   "display_name": "Python 3 (ipykernel)",
   "language": "python",
   "name": "python3"
  },
  "language_info": {
   "codemirror_mode": {
    "name": "ipython",
    "version": 3
   },
   "file_extension": ".py",
   "mimetype": "text/x-python",
   "name": "python",
   "nbconvert_exporter": "python",
   "pygments_lexer": "ipython3",
   "version": "3.12.4"
  }
 },
 "nbformat": 4,
 "nbformat_minor": 5
}
