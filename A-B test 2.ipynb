{
 "cells": [
  {
   "cell_type": "markdown",
   "id": "ec071b9c-5bed-44d7-93b4-5947c6571138",
   "metadata": {},
   "source": [
    "# A/B тест"
   ]
  },
  {
   "cell_type": "markdown",
   "id": "6955035e-1d8c-4c6a-8f4d-7cae0f979d5c",
   "metadata": {},
   "source": [
    "В данном проект я проведу А/В тестирование по данным: https://www.kaggle.com/datasets/yufengsui/mobile-games-ab-testing/data"
   ]
  },
  {
   "cell_type": "markdown",
   "id": "d99fa63b-fcb9-4506-8c36-ab10b9427985",
   "metadata": {},
   "source": [
    "## Загрузка данных"
   ]
  },
  {
   "cell_type": "code",
   "execution_count": 1,
   "id": "1c73bc31-4282-4e1c-822f-751e20beea3b",
   "metadata": {},
   "outputs": [],
   "source": [
    "import pandas as pd\n",
    "import matplotlib.pyplot as plt\n",
    "import seaborn as sns\n",
    "import numpy as np\n",
    "import scipy.stats as stats\n",
    "from scipy.stats import chi2_contingency\n",
    "import statsmodels.stats.api as sms\n",
    "import warnings\n",
    "warnings.filterwarnings('ignore')"
   ]
  },
  {
   "cell_type": "code",
   "execution_count": 2,
   "id": "677ba895-7f4e-4031-b33e-36fe3134c720",
   "metadata": {},
   "outputs": [],
   "source": [
    "df = pd.read_csv('C:/Users/Кирилл/Desktop/Аналитик данных/ПЭТ проекты/A-B test 2/cookie_cats.csv')"
   ]
  },
  {
   "cell_type": "code",
   "execution_count": 3,
   "id": "4bdf8f64-fc07-4899-9b78-d52dc3e47076",
   "metadata": {},
   "outputs": [],
   "source": [
    "# Функция проверки качества данных\n",
    "def initial_inspection(df):\n",
    "    \n",
    "    print(\"=== ПЕРВИЧНЫЙ ОСМОТР ДАННЫХ ===\")\n",
    "    \n",
    "    # Первые 5 строк\n",
    "    print(\"\\n1. Первые 5 строк данных:\")\n",
    "    print(df.head())\n",
    "    \n",
    "    # Информация о данных\n",
    "    print(\"\\n2. Информация о структуре данных:\")\n",
    "    print(df.info())\n",
    "    \n",
    "    # Описательная статистика\n",
    "    print(\"\\n3. Описательная статистика:\")\n",
    "    print(df.describe())\n",
    "    \n",
    "    # Проверка на пропуски\n",
    "    print(\"\\n4. Проверка на пропущенные значения:\")\n",
    "    missing_values = df.isnull().sum()\n",
    "    print(missing_values)\n",
    "    \n",
    "    return df"
   ]
  },
  {
   "cell_type": "code",
   "execution_count": 4,
   "id": "52df44f0-3209-48dc-80a5-6488af60fd28",
   "metadata": {},
   "outputs": [
    {
     "name": "stdout",
     "output_type": "stream",
     "text": [
      "=== ПЕРВИЧНЫЙ ОСМОТР ДАННЫХ ===\n",
      "\n",
      "1. Первые 5 строк данных:\n",
      "   userid  version  sum_gamerounds  retention_1  retention_7\n",
      "0     116  gate_30               3        False        False\n",
      "1     337  gate_30              38         True        False\n",
      "2     377  gate_40             165         True        False\n",
      "3     483  gate_40               1        False        False\n",
      "4     488  gate_40             179         True         True\n",
      "\n",
      "2. Информация о структуре данных:\n",
      "<class 'pandas.core.frame.DataFrame'>\n",
      "RangeIndex: 90189 entries, 0 to 90188\n",
      "Data columns (total 5 columns):\n",
      " #   Column          Non-Null Count  Dtype \n",
      "---  ------          --------------  ----- \n",
      " 0   userid          90189 non-null  int64 \n",
      " 1   version         90189 non-null  object\n",
      " 2   sum_gamerounds  90189 non-null  int64 \n",
      " 3   retention_1     90189 non-null  bool  \n",
      " 4   retention_7     90189 non-null  bool  \n",
      "dtypes: bool(2), int64(2), object(1)\n",
      "memory usage: 2.2+ MB\n",
      "None\n",
      "\n",
      "3. Описательная статистика:\n",
      "             userid  sum_gamerounds\n",
      "count  9.018900e+04    90189.000000\n",
      "mean   4.998412e+06       51.872457\n",
      "std    2.883286e+06      195.050858\n",
      "min    1.160000e+02        0.000000\n",
      "25%    2.512230e+06        5.000000\n",
      "50%    4.995815e+06       16.000000\n",
      "75%    7.496452e+06       51.000000\n",
      "max    9.999861e+06    49854.000000\n",
      "\n",
      "4. Проверка на пропущенные значения:\n",
      "userid            0\n",
      "version           0\n",
      "sum_gamerounds    0\n",
      "retention_1       0\n",
      "retention_7       0\n",
      "dtype: int64\n"
     ]
    },
    {
     "data": {
      "text/html": [
       "<div>\n",
       "<style scoped>\n",
       "    .dataframe tbody tr th:only-of-type {\n",
       "        vertical-align: middle;\n",
       "    }\n",
       "\n",
       "    .dataframe tbody tr th {\n",
       "        vertical-align: top;\n",
       "    }\n",
       "\n",
       "    .dataframe thead th {\n",
       "        text-align: right;\n",
       "    }\n",
       "</style>\n",
       "<table border=\"1\" class=\"dataframe\">\n",
       "  <thead>\n",
       "    <tr style=\"text-align: right;\">\n",
       "      <th></th>\n",
       "      <th>userid</th>\n",
       "      <th>version</th>\n",
       "      <th>sum_gamerounds</th>\n",
       "      <th>retention_1</th>\n",
       "      <th>retention_7</th>\n",
       "    </tr>\n",
       "  </thead>\n",
       "  <tbody>\n",
       "    <tr>\n",
       "      <th>0</th>\n",
       "      <td>116</td>\n",
       "      <td>gate_30</td>\n",
       "      <td>3</td>\n",
       "      <td>False</td>\n",
       "      <td>False</td>\n",
       "    </tr>\n",
       "    <tr>\n",
       "      <th>1</th>\n",
       "      <td>337</td>\n",
       "      <td>gate_30</td>\n",
       "      <td>38</td>\n",
       "      <td>True</td>\n",
       "      <td>False</td>\n",
       "    </tr>\n",
       "    <tr>\n",
       "      <th>2</th>\n",
       "      <td>377</td>\n",
       "      <td>gate_40</td>\n",
       "      <td>165</td>\n",
       "      <td>True</td>\n",
       "      <td>False</td>\n",
       "    </tr>\n",
       "    <tr>\n",
       "      <th>3</th>\n",
       "      <td>483</td>\n",
       "      <td>gate_40</td>\n",
       "      <td>1</td>\n",
       "      <td>False</td>\n",
       "      <td>False</td>\n",
       "    </tr>\n",
       "    <tr>\n",
       "      <th>4</th>\n",
       "      <td>488</td>\n",
       "      <td>gate_40</td>\n",
       "      <td>179</td>\n",
       "      <td>True</td>\n",
       "      <td>True</td>\n",
       "    </tr>\n",
       "    <tr>\n",
       "      <th>...</th>\n",
       "      <td>...</td>\n",
       "      <td>...</td>\n",
       "      <td>...</td>\n",
       "      <td>...</td>\n",
       "      <td>...</td>\n",
       "    </tr>\n",
       "    <tr>\n",
       "      <th>90184</th>\n",
       "      <td>9999441</td>\n",
       "      <td>gate_40</td>\n",
       "      <td>97</td>\n",
       "      <td>True</td>\n",
       "      <td>False</td>\n",
       "    </tr>\n",
       "    <tr>\n",
       "      <th>90185</th>\n",
       "      <td>9999479</td>\n",
       "      <td>gate_40</td>\n",
       "      <td>30</td>\n",
       "      <td>False</td>\n",
       "      <td>False</td>\n",
       "    </tr>\n",
       "    <tr>\n",
       "      <th>90186</th>\n",
       "      <td>9999710</td>\n",
       "      <td>gate_30</td>\n",
       "      <td>28</td>\n",
       "      <td>True</td>\n",
       "      <td>False</td>\n",
       "    </tr>\n",
       "    <tr>\n",
       "      <th>90187</th>\n",
       "      <td>9999768</td>\n",
       "      <td>gate_40</td>\n",
       "      <td>51</td>\n",
       "      <td>True</td>\n",
       "      <td>False</td>\n",
       "    </tr>\n",
       "    <tr>\n",
       "      <th>90188</th>\n",
       "      <td>9999861</td>\n",
       "      <td>gate_40</td>\n",
       "      <td>16</td>\n",
       "      <td>False</td>\n",
       "      <td>False</td>\n",
       "    </tr>\n",
       "  </tbody>\n",
       "</table>\n",
       "<p>90189 rows × 5 columns</p>\n",
       "</div>"
      ],
      "text/plain": [
       "        userid  version  sum_gamerounds  retention_1  retention_7\n",
       "0          116  gate_30               3        False        False\n",
       "1          337  gate_30              38         True        False\n",
       "2          377  gate_40             165         True        False\n",
       "3          483  gate_40               1        False        False\n",
       "4          488  gate_40             179         True         True\n",
       "...        ...      ...             ...          ...          ...\n",
       "90184  9999441  gate_40              97         True        False\n",
       "90185  9999479  gate_40              30        False        False\n",
       "90186  9999710  gate_30              28         True        False\n",
       "90187  9999768  gate_40              51         True        False\n",
       "90188  9999861  gate_40              16        False        False\n",
       "\n",
       "[90189 rows x 5 columns]"
      ]
     },
     "execution_count": 4,
     "metadata": {},
     "output_type": "execute_result"
    }
   ],
   "source": [
    "initial_inspection(df)"
   ]
  },
  {
   "cell_type": "markdown",
   "id": "e77dc9d9-15a2-4183-9c09-8312e5171367",
   "metadata": {},
   "source": [
    "В датасете представлены следующие данные:\n",
    " - userid: id пользователя;\n",
    " - version: версия шлюза;\n",
    " - sum_gamerounds: количество пройденных уровней;\n",
    " - retention_1: удержание на 1-ый день;\n",
    " - retention_7: удержание на 7-ый день.\n",
    "\n",
    "Пропущенные значения отсутствуют."
   ]
  },
  {
   "cell_type": "code",
   "execution_count": 5,
   "id": "9f3c6fe5-859d-475d-8c7f-caa846715ec3",
   "metadata": {},
   "outputs": [
    {
     "name": "stdout",
     "output_type": "stream",
     "text": [
      "Уникальные группы: ['gate_30' 'gate_40']\n"
     ]
    }
   ],
   "source": [
    "# Должны быть только две группы: gate_30 и gate_40\n",
    "print(\"Уникальные группы:\", df['version'].unique())"
   ]
  },
  {
   "cell_type": "markdown",
   "id": "7a785f70-95d4-41f7-af74-b5b8f3c6d8a2",
   "metadata": {},
   "source": [
    "## Проверка на дубликаты"
   ]
  },
  {
   "cell_type": "code",
   "execution_count": 6,
   "id": "8139af09-0f70-4d13-87b1-130be56dfdf1",
   "metadata": {},
   "outputs": [
    {
     "name": "stdout",
     "output_type": "stream",
     "text": [
      "Есть ли дубликаты userid? False\n"
     ]
    }
   ],
   "source": [
    "print(f\"Есть ли дубликаты userid? {df['userid'].duplicated().any()}\")"
   ]
  },
  {
   "cell_type": "markdown",
   "id": "9b81d3cc-78b8-4345-be9d-d0d77a08e98e",
   "metadata": {},
   "source": [
    "Дубликаты отсутствуют"
   ]
  },
  {
   "cell_type": "markdown",
   "id": "a26c402f-570f-44a4-b315-4bb70e8b7860",
   "metadata": {},
   "source": [
    "## Проверка на выбросы"
   ]
  },
  {
   "cell_type": "code",
   "execution_count": 7,
   "id": "d482216a-42b1-40a0-9dfc-69aa90ef4b37",
   "metadata": {},
   "outputs": [
    {
     "data": {
      "image/png": "[encoded data removed]",
      "text/plain": [
       "<Figure size 1200x600 with 1 Axes>"
      ]
     },
     "metadata": {},
     "output_type": "display_data"
    },
    {
     "name": "stdout",
     "output_type": "stream",
     "text": [
      "Максимальное значение раундов: 49854\n",
      "Количество игроков, сыгравших > 1000 раундов: 116\n",
      "Количество игроков, сыгравших 0 раундов: 3994\n"
     ]
    }
   ],
   "source": [
    "# Посмотрим на распределение игровых раундов\n",
    "plt.figure(figsize=(12,6))\n",
    "plt.hist(df['sum_gamerounds'], bins=100, range=(0, 100), color='lightblue', edgecolor='black')\n",
    "plt.title('Распределение количества сыгранных раундов (первые 100 раундов)')\n",
    "plt.xlabel('Количество раундов')\n",
    "plt.ylabel('Частота')\n",
    "plt.show()\n",
    "\n",
    "# Посмотрим на игроков с аномально высоким количеством раундов\n",
    "print(f\"Максимальное значение раундов: {df['sum_gamerounds'].max()}\")\n",
    "print(f\"Количество игроков, сыгравших > 1000 раундов: {(df['sum_gamerounds'] > 1000).sum()}\")\n",
    "print(f\"Количество игроков, сыгравших 0 раундов: {(df['sum_gamerounds'] == 0).sum()}\")"
   ]
  },
  {
   "cell_type": "markdown",
   "id": "6e467c76-5dfb-4a75-9761-14c52023b2ed",
   "metadata": {},
   "source": [
    "Игроков, сыгравших 0 раундов, 3994 шт. Данных игроков мы удалим из анализа, так как они не взаимодействовали с продуктом.\n",
    "Игроков с огромным количеством сыгранных раундов удалять не будем."
   ]
  },
  {
   "cell_type": "code",
   "execution_count": 8,
   "id": "94c8caa1-ba25-4a02-82d3-32487b0bddd9",
   "metadata": {},
   "outputs": [
    {
     "name": "stdout",
     "output_type": "stream",
     "text": [
      "Размер до очистки: (90189, 5)\n",
      "Размер после очистки: (86195, 5)\n"
     ]
    }
   ],
   "source": [
    "# Сохраняем размер до очистки\n",
    "print(f\"Размер до очистки: {df.shape}\")\n",
    "\n",
    "# Удаляем пользователей, которые не сыграли ни одного раунда\n",
    "df = df[df['sum_gamerounds'] > 0]\n",
    "\n",
    "print(f\"Размер после очистки: {df.shape}\")"
   ]
  },
  {
   "cell_type": "markdown",
   "id": "58a9de9a-c479-4731-8696-273103c68ceb",
   "metadata": {},
   "source": [
    "## Разведочный анализ (EDA)"
   ]
  },
  {
   "cell_type": "code",
   "execution_count": 9,
   "id": "d410efec-2b2e-4842-aada-e66c80f7f63a",
   "metadata": {},
   "outputs": [
    {
     "name": "stdout",
     "output_type": "stream",
     "text": [
      "   version  count\n",
      "0  gate_40  43432\n",
      "1  gate_30  42763\n"
     ]
    }
   ],
   "source": [
    "# Считаем количество игроков в каждой группе\n",
    "group_stats = df['version'].value_counts().reset_index()\n",
    "group_stats.columns = ['version', 'count']\n",
    "print(group_stats)"
   ]
  },
  {
   "cell_type": "code",
   "execution_count": 10,
   "id": "dd615bae-7a1b-4a88-888e-5d73774514a5",
   "metadata": {},
   "outputs": [
    {
     "name": "stdout",
     "output_type": "stream",
     "text": [
      "Распределение по группам:\n",
      "version\n",
      "gate_40    43432\n",
      "gate_30    42763\n",
      "Name: count, dtype: int64\n",
      "\n",
      "Соотношение: 0.504 : 0.496\n",
      "p-value для проверки равномерности распределения: 1.0000\n"
     ]
    }
   ],
   "source": [
    "# Посчитаем количество пользователей в каждой группе\n",
    "group_counts = df['version'].value_counts()\n",
    "print(\"Распределение по группам:\")\n",
    "print(group_counts)\n",
    "\n",
    "# В идеале соотношение должно быть близко к 50/50\n",
    "print(f\"\\nСоотношение: {group_counts['gate_40']/group_counts.sum():.3f} : {group_counts['gate_30']/group_counts.sum():.3f}\")\n",
    "\n",
    "# Проверим статистическую значимость различия в размерах групп (Xи-квадрат)\n",
    "# Нулевая гипотеза (H₀): Распределение наблюдений по группам является равномерным (т.е., размеры всех групп статистически не отличаются)\n",
    "# Альтернативная гипотеза (H₁): Распределение не является равномерным (размеры групп статистически значимо различаются)\n",
    "chi2, p_value, _, _ = chi2_contingency([group_counts.values])\n",
    "print(f\"p-value для проверки равномерности распределения: {p_value:.4f}\")"
   ]
  },
  {
   "cell_type": "markdown",
   "id": "71a3c9cf-ba24-4189-b120-9a7d38691cea",
   "metadata": {},
   "source": [
    "Группы примерно одинакового размера.\n",
    "Нулевую гипотезу не можем отвергнуть. Группы распределены равномерно."
   ]
  },
  {
   "cell_type": "code",
   "execution_count": 11,
   "id": "3ad9f3c9-95b6-4f04-aaaf-d7e34c207a4b",
   "metadata": {},
   "outputs": [
    {
     "name": "stdout",
     "output_type": "stream",
     "text": [
      "              mean  median         std  count\n",
      "version                                      \n",
      "gate_30  54.832332    18.0  262.217984  42763\n",
      "gate_40  53.728357    18.0  105.093012  43432\n"
     ]
    },
    {
     "data": {
      "image/png": "[encoded data removed]",
      "text/plain": [
       "<Figure size 1000x600 with 1 Axes>"
      ]
     },
     "metadata": {},
     "output_type": "display_data"
    }
   ],
   "source": [
    "# Сравним медиану и среднее по группам\n",
    "print(df.groupby('version')['sum_gamerounds'].agg(['mean', 'median', 'std', 'count']))\n",
    "\n",
    "# Построим boxplot для визуализации распределения (ограничим по оси Y для наглядности)\n",
    "plt.figure(figsize=(10,6))\n",
    "sns.boxplot(x='version', y='sum_gamerounds', data=df, showfliers=False) # showfliers=False убирает выбросы для наглядности\n",
    "plt.title('Распределение сыгранных раундов по группам (без выбросов)')\n",
    "plt.ylim(0, 110)\n",
    "plt.show()"
   ]
  },
  {
   "cell_type": "markdown",
   "id": "545b87b8-08ad-4226-8f08-4140c767a993",
   "metadata": {},
   "source": [
    "Группы выглядят сопоставимо по количеству раундов."
   ]
  },
  {
   "cell_type": "markdown",
   "id": "d8de5734-7bd0-4938-b957-8bb4152f51b4",
   "metadata": {},
   "source": [
    "# A/B тест"
   ]
  },
  {
   "cell_type": "markdown",
   "id": "a0278110-a370-47e2-8343-887d4a6cf598",
   "metadata": {},
   "source": [
    "Сформулируем гипотезы:\n",
    "\r\n",
    "    H0: Доли удержания (retention_1 и retention_7) в группе gate_30 и gate_40 одинаковы.\r\n",
    "    H1: Доли удержания различаются."
   ]
  },
  {
   "cell_type": "code",
   "execution_count": 12,
   "id": "db555820-85ab-473b-9fed-cb464fd1ed2c",
   "metadata": {},
   "outputs": [],
   "source": [
    "# Функция для проведения Z-теста для двух пропорций\n",
    "def proportional_z_test(x1, n1, x2, n2, alpha=0.05):\n",
    "    \"\"\"\n",
    "    Проводит Z-тест для двух пропорций и возвращает p-value и доверительный интервал\n",
    "    \"\"\"\n",
    "    # Вычисляем пропорции\n",
    "    p1 = x1 / n1\n",
    "    p2 = x2 / n2\n",
    "    p_pool = (x1 + x2) / (n1 + n2)\n",
    "    \n",
    "    # Вычисляем стандартную ошибку\n",
    "    se = np.sqrt(p_pool * (1 - p_pool) * (1/n1 + 1/n2))\n",
    "    \n",
    "    # Вычисляем Z-статистику\n",
    "    z_stat = (p1 - p2) / se\n",
    "    \n",
    "    # Вычисляем p-value\n",
    "    p_value = 2 * (1 - stats.norm.cdf(abs(z_stat)))\n",
    "    \n",
    "    # Вычисляем доверительный интервал\n",
    "    margin_of_error = stats.norm.ppf(1 - alpha/2) * se\n",
    "    ci_low = (p1 - p2) - margin_of_error\n",
    "    ci_high = (p1 - p2) + margin_of_error\n",
    "    \n",
    "    return z_stat, p_value, (ci_low, ci_high), (p1, p2)"
   ]
  },
  {
   "cell_type": "code",
   "execution_count": 13,
   "id": "69b5978a-98cf-46e7-9bd0-56f9a38a24d8",
   "metadata": {},
   "outputs": [],
   "source": [
    "# Создаем датафреймы для каждой группы\n",
    "group_30 = df[df['version'] == 'gate_30']\n",
    "group_40 = df[df['version'] == 'gate_40']"
   ]
  },
  {
   "cell_type": "code",
   "execution_count": 14,
   "id": "6b46e466-27ac-40b9-a5db-7af06874b504",
   "metadata": {},
   "outputs": [],
   "source": [
    "# Проводим тест для retention_1\n",
    "n1 = len(group_30)\n",
    "n2 = len(group_40)\n",
    "x1 = group_30['retention_1'].sum()  # Количество удержанных в группе gate_30\n",
    "x2 = group_40['retention_1'].sum()  # Количество удержанных в группе gate_40\n",
    "\n",
    "z_stat_1, p_value_1, ci_1, proportions_1 = proportional_z_test(x1, n1, x2, n2)"
   ]
  },
  {
   "cell_type": "code",
   "execution_count": 15,
   "id": "5c025bb6-0f23-4519-a9a3-834efbe1f6e1",
   "metadata": {},
   "outputs": [],
   "source": [
    "# Проводим тест для retention_7\n",
    "x1_7 = group_30['retention_7'].sum()\n",
    "x2_7 = group_40['retention_7'].sum()\n",
    "\n",
    "z_stat_7, p_value_7, ci_7, proportions_7 = proportional_z_test(x1_7, n1, x2_7, n2)"
   ]
  },
  {
   "cell_type": "code",
   "execution_count": 16,
   "id": "b88540f6-a5ff-4931-aea0-52eb5323104c",
   "metadata": {},
   "outputs": [
    {
     "data": {
      "text/plain": [
       "(0.46753034165049223, 0.46217074967765703)"
      ]
     },
     "execution_count": 16,
     "metadata": {},
     "output_type": "execute_result"
    }
   ],
   "source": [
    "proportions_1"
   ]
  },
  {
   "cell_type": "code",
   "execution_count": 17,
   "id": "34819ee5-5435-4dd5-98fa-4d24f28240ca",
   "metadata": {},
   "outputs": [
    {
     "data": {
      "image/png": "[encoded data removed]",
      "text/plain": [
       "<Figure size 1200x500 with 2 Axes>"
      ]
     },
     "metadata": {},
     "output_type": "display_data"
    }
   ],
   "source": [
    "# Визуализация результатов\n",
    "fig, ax = plt.subplots(1, 2, figsize=(12, 5))\n",
    "\n",
    "# График для retention_1\n",
    "retention_data_1 = {\n",
    "    'gate_30': proportions_1[0],\n",
    "    'gate_40': proportions_1[1]\n",
    "}\n",
    "ax[0].bar(retention_data_1.keys(), retention_data_1.values(), color=['lightblue', 'lightgreen'])\n",
    "ax[0].set_title('Retention 1 Day')\n",
    "ax[0].set_ylabel('Retention Rate')\n",
    "ax[0].set_ylim(0, max(retention_data_1.values()) * 1.1)\n",
    "for i, v in enumerate(retention_data_1.values()):\n",
    "    ax[0].text(i, v + 0.01, f'{v:.3f}', ha='center')\n",
    "\n",
    "# График для retention_7\n",
    "retention_data_7 = {\n",
    "    'gate_30': proportions_7[0],\n",
    "    'gate_40': proportions_7[1]\n",
    "}\n",
    "ax[1].bar(retention_data_7.keys(), retention_data_7.values(), color=['lightblue', 'lightgreen'])\n",
    "ax[1].set_title('Retention 7 Days')\n",
    "ax[1].set_ylabel('Retention Rate')\n",
    "ax[1].set_ylim(0, max(retention_data_7.values()) * 1.1)\n",
    "for i, v in enumerate(retention_data_7.values()):\n",
    "    ax[1].text(i, v + 0.01, f'{v:.3f}', ha='center')\n",
    "\n",
    "plt.tight_layout()\n",
    "plt.show()"
   ]
  },
  {
   "cell_type": "code",
   "execution_count": 18,
   "id": "25fd2cc8-e24f-4b93-b238-e54a1b0a79a0",
   "metadata": {},
   "outputs": [
    {
     "name": "stdout",
     "output_type": "stream",
     "text": [
      "Результаты A/B теста для Retention 1 Day:\n",
      "Группа gate_30: 0.4675 (19993/42763)\n",
      "Группа gate_40: 0.4622 (20073/43432)\n",
      "Разница: 0.0054\n",
      "95% доверительный интервал: [-0.0013, 0.0120]\n",
      "Z-статистика: 1.5774, p-value: 0.1147\n",
      "Статистически значимой разницы не обнаружено (p >= 0.05)\n",
      "\n",
      "Результаты A/B теста для Retention 7 Days:\n",
      "Группа gate_30: 0.1984 (8486/42763)\n",
      "Группа gate_40: 0.1903 (8266/43432)\n",
      "Разница: 0.0081\n",
      "95% доверительный интервал: [0.0028, 0.0134]\n",
      "Z-статистика: 3.0130, p-value: 0.0026\n",
      "Статистически значимая разница обнаружена (p < 0.05)\n"
     ]
    }
   ],
   "source": [
    "# Выводим результаты тестов\n",
    "print(\"Результаты A/B теста для Retention 1 Day:\")\n",
    "print(f\"Группа gate_30: {proportions_1[0]:.4f} ({x1}/{n1})\")\n",
    "print(f\"Группа gate_40: {proportions_1[1]:.4f} ({x2}/{n2})\")\n",
    "print(f\"Разница: {proportions_1[0] - proportions_1[1]:.4f}\")\n",
    "print(f\"95% доверительный интервал: [{ci_1[0]:.4f}, {ci_1[1]:.4f}]\")\n",
    "print(f\"Z-статистика: {z_stat_1:.4f}, p-value: {p_value_1:.4f}\")\n",
    "if p_value_1 < 0.05:\n",
    "    print(\"Статистически значимая разница обнаружена (p < 0.05)\")\n",
    "else:\n",
    "    print(\"Статистически значимой разницы не обнаружено (p >= 0.05)\")\n",
    "print()\n",
    "\n",
    "print(\"Результаты A/B теста для Retention 7 Days:\")\n",
    "print(f\"Группа gate_30: {proportions_7[0]:.4f} ({x1_7}/{n1})\")\n",
    "print(f\"Группа gate_40: {proportions_7[1]:.4f} ({x2_7}/{n2})\")\n",
    "print(f\"Разница: {proportions_7[0] - proportions_7[1]:.4f}\")\n",
    "print(f\"95% доверительный интервал: [{ci_7[0]:.4f}, {ci_7[1]:.4f}]\")\n",
    "print(f\"Z-статистика: {z_stat_7:.4f}, p-value: {p_value_7:.4f}\")\n",
    "if p_value_7 < 0.05:\n",
    "    print(\"Статистически значимая разница обнаружена (p < 0.05)\")\n",
    "else:\n",
    "    print(\"Статистически значимой разницы не обнаружено (p >= 0.05)\")"
   ]
  },
  {
   "cell_type": "markdown",
   "id": "7e1accdc-b328-4eed-a709-92778f35e8c6",
   "metadata": {},
   "source": [
    "Конверсия в 1-ый день не показывает статистически значимой разницы между группами, то есть эффекта нет. Только конверсия на 7-й день показывает, что статистически значимая разница обнаружена."
   ]
  },
  {
   "cell_type": "code",
   "execution_count": null,
   "id": "89f9f041-2b53-44b6-bd81-4f8f1c42bf2f",
   "metadata": {},
   "outputs": [],
   "source": []
  }
 ],
 "metadata": {
  "kernelspec": {
   "display_name": "Python 3 (ipykernel)",
   "language": "python",
   "name": "python3"
  },
  "language_info": {
   "codemirror_mode": {
    "name": "ipython",
    "version": 3
   },
   "file_extension": ".py",
   "mimetype": "text/x-python",
   "name": "python",
   "nbconvert_exporter": "python",
   "pygments_lexer": "ipython3",
   "version": "3.12.4"
  }
 },
 "nbformat": 4,
 "nbformat_minor": 5
}
